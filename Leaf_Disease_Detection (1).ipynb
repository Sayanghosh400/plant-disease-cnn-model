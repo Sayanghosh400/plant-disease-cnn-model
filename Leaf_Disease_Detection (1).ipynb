{
  "cells": [
    {
      "cell_type": "code",
      "execution_count": null,
      "metadata": {
        "collapsed": true,
        "id": "psBWCLABkiRP"
      },
      "outputs": [],
      "source": [
        "import numpy as np\n",
        "import pickle\n",
        "import cv2\n",
        "import tensorflow\n",
        "from os import listdir\n",
        "from sklearn.preprocessing import LabelBinarizer\n",
        "from tensorflow.keras.models import Sequential, load_model\n",
        "from tensorflow.keras.layers import Conv2D, MaxPooling2D\n",
        "from tensorflow.keras.layers import BatchNormalization\n",
        "from tensorflow.keras.layers import Activation, Flatten, Dropout, Dense\n",
        "from tensorflow.keras import backend as K\n",
        "from tensorflow.keras.preprocessing.image import ImageDataGenerator\n",
        "from tensorflow.keras.optimizers import Adam\n",
        "from tensorflow.keras.preprocessing import image\n",
        "from tensorflow.keras.preprocessing.image import img_to_array\n",
        "from sklearn.preprocessing import MultiLabelBinarizer\n",
        "from sklearn.model_selection import train_test_split\n",
        "import matplotlib.pyplot as plt"
      ]
    },
    {
      "cell_type": "code",
      "source": [
        "!mkdir -p ~/.kaggle\n",
        "!cp kaggle.json ~/.kaggle/"
      ],
      "metadata": {
        "id": "ANNz5Oh9mn2w",
        "colab": {
          "base_uri": "https://localhost:8080/"
        },
        "outputId": "8b8d6ce0-ea9f-4b3a-8d19-40badae6db59"
      },
      "execution_count": null,
      "outputs": [
        {
          "output_type": "stream",
          "name": "stdout",
          "text": [
            "cp: cannot stat 'kaggle.json': No such file or directory\n"
          ]
        }
      ]
    },
    {
      "cell_type": "code",
      "source": [
        "!kaggle datasets download -d emmarex/plantdisease"
      ],
      "metadata": {
        "colab": {
          "base_uri": "https://localhost:8080/"
        },
        "id": "UTEl95CfnkV7",
        "outputId": "a483ac5d-791b-4c86-fa1f-99f00b61b324"
      },
      "execution_count": null,
      "outputs": [
        {
          "output_type": "stream",
          "name": "stdout",
          "text": [
            "Dataset URL: https://www.kaggle.com/datasets/emmarex/plantdisease\n",
            "License(s): unknown\n",
            "Downloading plantdisease.zip to /content\n",
            " 99% 649M/658M [00:12<00:00, 123MB/s]\n",
            "100% 658M/658M [00:12<00:00, 55.1MB/s]\n"
          ]
        }
      ]
    },
    {
      "cell_type": "code",
      "source": [
        "from google.colab import drive\n",
        "drive.mount('/content/drive')"
      ],
      "metadata": {
        "id": "VzTcnvDPUuxr"
      },
      "execution_count": null,
      "outputs": []
    },
    {
      "cell_type": "code",
      "source": [
        "import zipfile\n",
        "zip_ref = zipfile.ZipFile('/content/plantdisease.zip', 'r')\n",
        "zip_ref.extractall('/content/input')\n",
        "zip_ref.close()"
      ],
      "metadata": {
        "id": "v9rlxB_Yn3sU"
      },
      "execution_count": null,
      "outputs": []
    },
    {
      "cell_type": "code",
      "execution_count": null,
      "metadata": {
        "collapsed": true,
        "id": "HDHHGMBMkiRR"
      },
      "outputs": [],
      "source": [
        "EPOCHS = 25\n",
        "INIT_LR = 1e-3\n",
        "BS = 32\n",
        "default_image_size = tuple((256, 256))\n",
        "image_size = 0\n",
        "directory_root = '/content/input/plantvillage'\n",
        "width=256\n",
        "height=256\n",
        "depth=3"
      ]
    },
    {
      "cell_type": "code",
      "execution_count": null,
      "metadata": {
        "collapsed": true,
        "id": "3X4IkEAskiRR"
      },
      "outputs": [],
      "source": [
        "def convert_image_to_array(image_dir):\n",
        "    try:\n",
        "        image = cv2.imread(image_dir)\n",
        "        if image is not None :\n",
        "            image = cv2.resize(image, default_image_size)\n",
        "            return img_to_array(image)\n",
        "        else :\n",
        "            return np.array([])\n",
        "    except Exception as e:\n",
        "        print(f\"Error : {e}\")\n",
        "        return None"
      ]
    },
    {
      "cell_type": "code",
      "execution_count": null,
      "metadata": {
        "colab": {
          "base_uri": "https://localhost:8080/"
        },
        "id": "CXToQwnQkiRR",
        "outputId": "214cdaab-afbe-4852-f2e7-38c982391d5f"
      },
      "outputs": [
        {
          "output_type": "stream",
          "name": "stdout",
          "text": [
            "[INFO] Loading images ...\n",
            "[INFO] Processing Tomato__Target_Spot ...\n",
            "[INFO] Processing Tomato_Late_blight ...\n",
            "[INFO] Processing Tomato_Septoria_leaf_spot ...\n",
            "[INFO] Processing Tomato_Early_blight ...\n",
            "[INFO] Processing Pepper__bell___Bacterial_spot ...\n",
            "[INFO] Processing Tomato_healthy ...\n",
            "[INFO] Processing Tomato_Leaf_Mold ...\n",
            "[INFO] Processing Potato___healthy ...\n",
            "[INFO] Processing Tomato__Tomato_mosaic_virus ...\n",
            "[INFO] Processing Tomato_Bacterial_spot ...\n",
            "[INFO] Processing Potato___Late_blight ...\n",
            "[INFO] Processing Tomato_Spider_mites_Two_spotted_spider_mite ...\n",
            "[INFO] Processing Pepper__bell___healthy ...\n",
            "[INFO] Processing Potato___Early_blight ...\n",
            "[INFO] Processing Tomato__Tomato_YellowLeaf__Curl_Virus ...\n",
            "[INFO] Image loading completed\n"
          ]
        }
      ],
      "source": [
        "image_list, label_list = [], []\n",
        "try:\n",
        "    print(\"[INFO] Loading images ...\")\n",
        "    root_dir = listdir(directory_root)\n",
        "    for directory in root_dir :\n",
        "        # remove .DS_Store from list\n",
        "        if directory == \".DS_Store\" :\n",
        "            root_dir.remove(directory)\n",
        "\n",
        "    for plant_folder in root_dir :\n",
        "        plant_disease_folder_list = listdir(f\"{directory_root}/{plant_folder}\")\n",
        "\n",
        "        for disease_folder in plant_disease_folder_list :\n",
        "            # remove .DS_Store from list\n",
        "            if disease_folder == \".DS_Store\" :\n",
        "                plant_disease_folder_list.remove(disease_folder)\n",
        "\n",
        "        for plant_disease_folder in plant_disease_folder_list:\n",
        "            print(f\"[INFO] Processing {plant_disease_folder} ...\")\n",
        "            plant_disease_image_list = listdir(f\"{directory_root}/{plant_folder}/{plant_disease_folder}/\")\n",
        "\n",
        "            for single_plant_disease_image in plant_disease_image_list :\n",
        "                if single_plant_disease_image == \".DS_Store\" :\n",
        "                    plant_disease_image_list.remove(single_plant_disease_image)\n",
        "\n",
        "            for image in plant_disease_image_list[:200]:\n",
        "                image_directory = f\"{directory_root}/{plant_folder}/{plant_disease_folder}/{image}\"\n",
        "                if image_directory.endswith(\".jpg\") == True or image_directory.endswith(\".JPG\") == True:\n",
        "                    image_list.append(convert_image_to_array(image_directory))\n",
        "                    label_list.append(plant_disease_folder)\n",
        "    print(\"[INFO] Image loading completed\")\n",
        "except Exception as e:\n",
        "    print(f\"Error : {e}\")"
      ]
    },
    {
      "cell_type": "code",
      "execution_count": null,
      "metadata": {
        "id": "6Jd9NhjqkiRS",
        "colab": {
          "base_uri": "https://localhost:8080/"
        },
        "outputId": "d7417f67-4420-4e24-9b1e-89e437d7cf5d"
      },
      "outputs": [
        {
          "output_type": "stream",
          "name": "stdout",
          "text": [
            "2952\n"
          ]
        }
      ],
      "source": [
        "image_size = len(image_list)\n",
        "print(image_size)"
      ]
    },
    {
      "cell_type": "code",
      "execution_count": null,
      "metadata": {
        "collapsed": true,
        "id": "1m7sDl5RkiRS"
      },
      "outputs": [],
      "source": [
        "label_binarizer = LabelBinarizer()\n",
        "image_labels = label_binarizer.fit_transform(label_list)\n",
        "pickle.dump(label_binarizer,open('label_transform.pkl', 'wb'))\n",
        "n_classes = len(label_binarizer.classes_)"
      ]
    },
    {
      "cell_type": "code",
      "execution_count": null,
      "metadata": {
        "id": "CeIfSh36kiRT",
        "outputId": "8265c765-42e3-427a-8a46-3efa419fce49",
        "colab": {
          "base_uri": "https://localhost:8080/"
        }
      },
      "outputs": [
        {
          "output_type": "stream",
          "name": "stdout",
          "text": [
            "['Pepper__bell___Bacterial_spot' 'Pepper__bell___healthy'\n",
            " 'Potato___Early_blight' 'Potato___Late_blight' 'Potato___healthy'\n",
            " 'Tomato_Bacterial_spot' 'Tomato_Early_blight' 'Tomato_Late_blight'\n",
            " 'Tomato_Leaf_Mold' 'Tomato_Septoria_leaf_spot'\n",
            " 'Tomato_Spider_mites_Two_spotted_spider_mite' 'Tomato__Target_Spot'\n",
            " 'Tomato__Tomato_YellowLeaf__Curl_Virus' 'Tomato__Tomato_mosaic_virus'\n",
            " 'Tomato_healthy']\n"
          ]
        }
      ],
      "source": [
        "print(label_binarizer.classes_)"
      ]
    },
    {
      "cell_type": "code",
      "execution_count": null,
      "metadata": {
        "id": "IUTc7HGQkiRT",
        "colab": {
          "base_uri": "https://localhost:8080/"
        },
        "outputId": "bf32c731-cdd9-4b90-f9b0-63afd1c0cd36"
      },
      "outputs": [
        {
          "output_type": "stream",
          "name": "stdout",
          "text": [
            "[[[[0.4355 0.422  0.4934]\n",
            "   [0.4133 0.4    0.4712]\n",
            "   [0.4622 0.449  0.52  ]\n",
            "   ...\n",
            "   [0.569  0.5645 0.6357]\n",
            "   [0.422  0.4177 0.4888]\n",
            "   [0.4312 0.4268 0.4978]]\n",
            "\n",
            "  [[0.573  0.56   0.6313]\n",
            "   [0.48   0.4666 0.5376]\n",
            "   [0.4045 0.391  0.4622]\n",
            "   ...\n",
            "   [0.4443 0.44   0.511 ]\n",
            "   [0.3733 0.369  0.44  ]\n",
            "   [0.4    0.3955 0.4666]]\n",
            "\n",
            "  [[0.4978 0.4844 0.5557]\n",
            "   [0.44   0.4268 0.4978]\n",
            "   [0.4133 0.4    0.4712]\n",
            "   ...\n",
            "   [0.369  0.3645 0.4355]\n",
            "   [0.36   0.3555 0.4268]\n",
            "   [0.4045 0.4    0.4712]]\n",
            "\n",
            "  ...\n",
            "\n",
            "  [[0.7866 0.769  0.818 ]\n",
            "   [0.818  0.8    0.849 ]\n",
            "   [0.8223 0.8047 0.8535]\n",
            "   ...\n",
            "   [0.7646 0.76   0.8047]\n",
            "   [0.778  0.7734 0.818 ]\n",
            "   [0.8047 0.8    0.844 ]]\n",
            "\n",
            "  [[0.76   0.742  0.791 ]\n",
            "   [0.8    0.782  0.831 ]\n",
            "   [0.8047 0.7866 0.8354]\n",
            "   ...\n",
            "   [0.7554 0.751  0.7954]\n",
            "   [0.7734 0.769  0.8135]\n",
            "   [0.8047 0.8    0.844 ]]\n",
            "\n",
            "  [[0.7153 0.6978 0.7466]\n",
            "   [0.7646 0.7466 0.7954]\n",
            "   [0.782  0.7646 0.8135]\n",
            "   ...\n",
            "   [0.76   0.7554 0.8   ]\n",
            "   [0.778  0.7734 0.818 ]\n",
            "   [0.809  0.8047 0.849 ]]]\n",
            "\n",
            "\n",
            " [[[0.5645 0.511  0.5913]\n",
            "   [0.4133 0.36   0.44  ]\n",
            "   [0.56   0.507  0.5864]\n",
            "   ...\n",
            "   [0.5513 0.507  0.5645]\n",
            "   [0.64   0.5957 0.6533]\n",
            "   [0.582  0.5376 0.5957]]\n",
            "\n",
            "  [[0.5244 0.4712 0.5513]\n",
            "   [0.3955 0.3423 0.422 ]\n",
            "   [0.5376 0.4844 0.5645]\n",
            "   ...\n",
            "   [0.529  0.4844 0.542 ]\n",
            "   [0.6846 0.64   0.6978]\n",
            "   [0.702  0.6577 0.7153]]\n",
            "\n",
            "  [[0.4934 0.44   0.52  ]\n",
            "   [0.5645 0.511  0.5913]\n",
            "   [0.5024 0.449  0.529 ]\n",
            "   ...\n",
            "   [0.5156 0.4712 0.529 ]\n",
            "   [0.6045 0.56   0.6177]\n",
            "   [0.5776 0.533  0.5913]]\n",
            "\n",
            "  ...\n",
            "\n",
            "  [[0.849  0.8047 0.8623]\n",
            "   [0.6934 0.649  0.7065]\n",
            "   [0.911  0.8667 0.9243]\n",
            "   ...\n",
            "   [0.938  0.9067 0.9287]\n",
            "   [0.9243 0.8936 0.9155]\n",
            "   [0.9287 0.898  0.92  ]]\n",
            "\n",
            "  [[0.729  0.6846 0.742 ]\n",
            "   [0.449  0.4045 0.4622]\n",
            "   [0.649  0.6045 0.662 ]\n",
            "   ...\n",
            "   [0.947  0.9155 0.938 ]\n",
            "   [0.92   0.8887 0.911 ]\n",
            "   [0.9067 0.8755 0.898 ]]\n",
            "\n",
            "  [[0.7466 0.702  0.76  ]\n",
            "   [0.711  0.6665 0.7246]\n",
            "   [0.4534 0.409  0.4666]\n",
            "   ...\n",
            "   [0.9644 0.933  0.9556]\n",
            "   [0.951  0.92   0.9424]\n",
            "   [0.9424 0.911  0.933 ]]]\n",
            "\n",
            "\n",
            " [[[0.8843 0.88   0.9243]\n",
            "   [0.911  0.9067 0.951 ]\n",
            "   [0.92   0.9155 0.96  ]\n",
            "   ...\n",
            "   [0.7954 0.778  0.8267]\n",
            "   [0.791  0.7734 0.8223]\n",
            "   [0.7866 0.769  0.818 ]]\n",
            "\n",
            "  [[0.88   0.8755 0.92  ]\n",
            "   [0.9023 0.898  0.9424]\n",
            "   [0.9023 0.898  0.9424]\n",
            "   ...\n",
            "   [0.8    0.782  0.831 ]\n",
            "   [0.7954 0.778  0.8267]\n",
            "   [0.791  0.7734 0.8223]]\n",
            "\n",
            "  [[0.8887 0.8843 0.9287]\n",
            "   [0.898  0.8936 0.938 ]\n",
            "   [0.898  0.8936 0.938 ]\n",
            "   ...\n",
            "   [0.778  0.76   0.809 ]\n",
            "   [0.7734 0.7554 0.8047]\n",
            "   [0.7646 0.7466 0.7954]]\n",
            "\n",
            "  ...\n",
            "\n",
            "  [[0.44   0.4268 0.5244]\n",
            "   [0.3066 0.2932 0.391 ]\n",
            "   [0.3823 0.369  0.4666]\n",
            "   ...\n",
            "   [0.422  0.3867 0.4622]\n",
            "   [0.4622 0.4268 0.5024]\n",
            "   [0.4844 0.449  0.5244]]\n",
            "\n",
            "  [[0.622  0.609  0.7065]\n",
            "   [0.5376 0.5244 0.622 ]\n",
            "   [0.4045 0.391  0.4888]\n",
            "   ...\n",
            "   [0.4666 0.4312 0.507 ]\n",
            "   [0.4844 0.449  0.5244]\n",
            "   [0.3777 0.3423 0.4177]]\n",
            "\n",
            "  [[0.4622 0.449  0.547 ]\n",
            "   [0.391  0.3777 0.4756]\n",
            "   [0.4355 0.422  0.52  ]\n",
            "   ...\n",
            "   [0.5645 0.529  0.6045]\n",
            "   [0.4355 0.4    0.4756]\n",
            "   [0.48   0.4443 0.52  ]]]\n",
            "\n",
            "\n",
            " ...\n",
            "\n",
            "\n",
            " [[[0.702  0.702  0.702 ]\n",
            "   [0.702  0.702  0.702 ]\n",
            "   [0.702  0.702  0.702 ]\n",
            "   ...\n",
            "   [0.48   0.4534 0.4578]\n",
            "   [0.4844 0.4578 0.4622]\n",
            "   [0.529  0.5024 0.507 ]]\n",
            "\n",
            "  [[0.702  0.702  0.702 ]\n",
            "   [0.702  0.702  0.702 ]\n",
            "   [0.6978 0.6978 0.6978]\n",
            "   ...\n",
            "   [0.5244 0.4978 0.5024]\n",
            "   [0.5156 0.4888 0.4934]\n",
            "   [0.547  0.52   0.5244]]\n",
            "\n",
            "  [[0.6978 0.6978 0.6978]\n",
            "   [0.6978 0.6978 0.6978]\n",
            "   [0.6978 0.6978 0.6978]\n",
            "   ...\n",
            "   [0.5024 0.48   0.4844]\n",
            "   [0.4712 0.449  0.4534]\n",
            "   [0.48   0.4578 0.4622]]\n",
            "\n",
            "  ...\n",
            "\n",
            "  [[0.6357 0.6577 0.649 ]\n",
            "   [0.64   0.662  0.6533]\n",
            "   [0.64   0.662  0.6533]\n",
            "   ...\n",
            "   [0.5513 0.5557 0.547 ]\n",
            "   [0.547  0.5513 0.542 ]\n",
            "   [0.542  0.547  0.5376]]\n",
            "\n",
            "  [[0.6265 0.649  0.64  ]\n",
            "   [0.6265 0.649  0.64  ]\n",
            "   [0.6313 0.6533 0.6445]\n",
            "   ...\n",
            "   [0.547  0.5513 0.542 ]\n",
            "   [0.5513 0.5557 0.547 ]\n",
            "   [0.5513 0.5557 0.547 ]]\n",
            "\n",
            "  [[0.6177 0.64   0.6313]\n",
            "   [0.622  0.6445 0.6357]\n",
            "   [0.622  0.6445 0.6357]\n",
            "   ...\n",
            "   [0.547  0.5513 0.542 ]\n",
            "   [0.5557 0.56   0.5513]\n",
            "   [0.56   0.5645 0.5557]]]\n",
            "\n",
            "\n",
            " [[[0.609  0.5776 0.609 ]\n",
            "   [0.5913 0.56   0.5913]\n",
            "   [0.5776 0.547  0.5776]\n",
            "   ...\n",
            "   [0.533  0.5156 0.5645]\n",
            "   [0.5244 0.507  0.5557]\n",
            "   [0.547  0.529  0.5776]]\n",
            "\n",
            "  [[0.6    0.569  0.6   ]\n",
            "   [0.5913 0.56   0.5913]\n",
            "   [0.5864 0.5557 0.5864]\n",
            "   ...\n",
            "   [0.4712 0.4534 0.5024]\n",
            "   [0.4934 0.4756 0.5244]\n",
            "   [0.5557 0.5376 0.5864]]\n",
            "\n",
            "  [[0.6045 0.573  0.6045]\n",
            "   [0.6045 0.573  0.6045]\n",
            "   [0.6133 0.582  0.6133]\n",
            "   ...\n",
            "   [0.533  0.5156 0.5645]\n",
            "   [0.5513 0.533  0.582 ]\n",
            "   [0.5957 0.5776 0.6265]]\n",
            "\n",
            "  ...\n",
            "\n",
            "  [[0.6133 0.5957 0.6445]\n",
            "   [0.6177 0.6    0.649 ]\n",
            "   [0.622  0.6045 0.6533]\n",
            "   ...\n",
            "   [0.547  0.5376 0.5913]\n",
            "   [0.582  0.573  0.6265]\n",
            "   [0.5513 0.542  0.5957]]\n",
            "\n",
            "  [[0.6265 0.609  0.6577]\n",
            "   [0.622  0.6045 0.6533]\n",
            "   [0.6177 0.6    0.649 ]\n",
            "   ...\n",
            "   [0.569  0.56   0.6133]\n",
            "   [0.6045 0.5957 0.649 ]\n",
            "   [0.573  0.5645 0.6177]]\n",
            "\n",
            "  [[0.676  0.6577 0.7065]\n",
            "   [0.662  0.6445 0.6934]\n",
            "   [0.649  0.6313 0.68  ]\n",
            "   ...\n",
            "   [0.671  0.662  0.7153]\n",
            "   [0.671  0.662  0.7153]\n",
            "   [0.6045 0.5957 0.649 ]]]\n",
            "\n",
            "\n",
            " [[[0.5913 0.573  0.6   ]\n",
            "   [0.5864 0.569  0.5957]\n",
            "   [0.582  0.5645 0.5913]\n",
            "   ...\n",
            "   [0.391  0.3733 0.4   ]\n",
            "   [0.4133 0.3955 0.422 ]\n",
            "   [0.4578 0.44   0.4666]]\n",
            "\n",
            "  [[0.542  0.5244 0.5513]\n",
            "   [0.533  0.5156 0.542 ]\n",
            "   [0.5244 0.507  0.533 ]\n",
            "   ...\n",
            "   [0.3777 0.36   0.3867]\n",
            "   [0.369  0.351  0.3777]\n",
            "   [0.422  0.4045 0.4312]]\n",
            "\n",
            "  [[0.582  0.5645 0.5913]\n",
            "   [0.573  0.5557 0.582 ]\n",
            "   [0.5557 0.5376 0.5645]\n",
            "   ...\n",
            "   [0.4133 0.3955 0.422 ]\n",
            "   [0.351  0.3333 0.36  ]\n",
            "   [0.4    0.3823 0.409 ]]\n",
            "\n",
            "  ...\n",
            "\n",
            "  [[0.582  0.5776 0.622 ]\n",
            "   [0.6265 0.622  0.6665]\n",
            "   [0.6313 0.6265 0.671 ]\n",
            "   ...\n",
            "   [0.547  0.547  0.6   ]\n",
            "   [0.5513 0.5513 0.6045]\n",
            "   [0.5645 0.5645 0.6177]]\n",
            "\n",
            "  [[0.6577 0.6533 0.6978]\n",
            "   [0.6445 0.64   0.6846]\n",
            "   [0.622  0.6177 0.662 ]\n",
            "   ...\n",
            "   [0.6533 0.6533 0.7065]\n",
            "   [0.4443 0.4443 0.4978]\n",
            "   [0.5864 0.5864 0.64  ]]\n",
            "\n",
            "  [[0.662  0.6577 0.702 ]\n",
            "   [0.689  0.6846 0.729 ]\n",
            "   [0.711  0.7065 0.751 ]\n",
            "   ...\n",
            "   [0.4268 0.4268 0.48  ]\n",
            "   [0.6    0.6    0.6533]\n",
            "   [0.3066 0.3066 0.36  ]]]]\n"
          ]
        }
      ],
      "source": [
        "np_image_list = np.array(image_list, dtype=np.float16) / 225.0\n",
        "print(np_image_list)"
      ]
    },
    {
      "cell_type": "code",
      "execution_count": null,
      "metadata": {
        "id": "qW4ZnobrkiRT",
        "outputId": "52b0313a-f689-4ecb-91f3-94273b29af88",
        "colab": {
          "base_uri": "https://localhost:8080/"
        }
      },
      "outputs": [
        {
          "output_type": "stream",
          "name": "stdout",
          "text": [
            "[INFO] Spliting data to train, test\n"
          ]
        }
      ],
      "source": [
        "print(\"[INFO] Spliting data to train, test\")\n",
        "x_train, x_test, y_train, y_test = train_test_split(np_image_list, image_labels, test_size=0.2, random_state = 42)"
      ]
    },
    {
      "cell_type": "code",
      "execution_count": null,
      "metadata": {
        "collapsed": true,
        "id": "HVETTeA1kiRT"
      },
      "outputs": [],
      "source": [
        "aug = ImageDataGenerator(\n",
        "    rotation_range=25, width_shift_range=0.1,\n",
        "    height_shift_range=0.1, shear_range=0.2,\n",
        "    zoom_range=0.2,horizontal_flip=True,\n",
        "    fill_mode=\"nearest\")"
      ]
    },
    {
      "cell_type": "code",
      "execution_count": null,
      "metadata": {
        "collapsed": true,
        "id": "BoqUYMYukiRU"
      },
      "outputs": [],
      "source": [
        "model = Sequential()\n",
        "inputShape = (height, width, depth)\n",
        "chanDim = -1\n",
        "if K.image_data_format() == \"channels_first\":\n",
        "    inputShape = (depth, height, width)\n",
        "    chanDim = 1\n",
        "\n",
        "model.add(Conv2D(32, (3, 3), activation=\"relu\", padding=\"same\", input_shape=inputShape))\n",
        "model.add(BatchNormalization(axis=chanDim))\n",
        "model.add(MaxPooling2D((2, 2)))\n",
        "model.add(Dropout(0.25))\n",
        "\n",
        "model.add(Conv2D(64, (3, 3), activation=\"relu\", padding=\"same\"))\n",
        "model.add(BatchNormalization(axis=chanDim))\n",
        "model.add(MaxPooling2D((2, 2)))\n",
        "\n",
        "model.add(Conv2D(64, (3, 3), activation=\"relu\", padding=\"same\"))\n",
        "model.add(BatchNormalization(axis=chanDim))\n",
        "model.add(MaxPooling2D((2, 2)))\n",
        "model.add(Dropout(0.25))\n",
        "\n",
        "model.add(Conv2D(128, (3, 3), activation=\"relu\", padding=\"same\"))\n",
        "model.add(BatchNormalization(axis=chanDim))\n",
        "model.add(MaxPooling2D((2, 2)))\n",
        "\n",
        "model.add(Conv2D(128, (3, 3), activation=\"relu\", padding=\"same\"))\n",
        "model.add(BatchNormalization(axis=chanDim))\n",
        "model.add(MaxPooling2D((2, 2)))\n",
        "model.add(Dropout(0.25))\n",
        "\n",
        "model.add(Flatten())\n",
        "model.add(Dense(1024, activation=\"relu\"))\n",
        "model.add(BatchNormalization())\n",
        "model.add(Dropout(0.5))\n",
        "\n",
        "# Replace 'n_classes' with the number of output classes\n",
        "model.add(Dense(n_classes, activation=\"softmax\"))\n"
      ]
    },
    {
      "cell_type": "code",
      "execution_count": null,
      "metadata": {
        "id": "sDT0XziYkiRU",
        "outputId": "019fdc6f-e79f-4b30-b100-1fcb25f8a206",
        "colab": {
          "base_uri": "https://localhost:8080/"
        }
      },
      "outputs": [
        {
          "output_type": "stream",
          "name": "stdout",
          "text": [
            "Model: \"sequential\"\n",
            "_________________________________________________________________\n",
            " Layer (type)                Output Shape              Param #   \n",
            "=================================================================\n",
            " conv2d (Conv2D)             (None, 256, 256, 32)      896       \n",
            "                                                                 \n",
            " batch_normalization (Batch  (None, 256, 256, 32)      128       \n",
            " Normalization)                                                  \n",
            "                                                                 \n",
            " max_pooling2d (MaxPooling2  (None, 128, 128, 32)      0         \n",
            " D)                                                              \n",
            "                                                                 \n",
            " dropout (Dropout)           (None, 128, 128, 32)      0         \n",
            "                                                                 \n",
            " conv2d_1 (Conv2D)           (None, 128, 128, 64)      18496     \n",
            "                                                                 \n",
            " batch_normalization_1 (Bat  (None, 128, 128, 64)      256       \n",
            " chNormalization)                                                \n",
            "                                                                 \n",
            " max_pooling2d_1 (MaxPoolin  (None, 64, 64, 64)        0         \n",
            " g2D)                                                            \n",
            "                                                                 \n",
            " conv2d_2 (Conv2D)           (None, 64, 64, 64)        36928     \n",
            "                                                                 \n",
            " batch_normalization_2 (Bat  (None, 64, 64, 64)        256       \n",
            " chNormalization)                                                \n",
            "                                                                 \n",
            " max_pooling2d_2 (MaxPoolin  (None, 32, 32, 64)        0         \n",
            " g2D)                                                            \n",
            "                                                                 \n",
            " dropout_1 (Dropout)         (None, 32, 32, 64)        0         \n",
            "                                                                 \n",
            " conv2d_3 (Conv2D)           (None, 32, 32, 128)       73856     \n",
            "                                                                 \n",
            " batch_normalization_3 (Bat  (None, 32, 32, 128)       512       \n",
            " chNormalization)                                                \n",
            "                                                                 \n",
            " max_pooling2d_3 (MaxPoolin  (None, 16, 16, 128)       0         \n",
            " g2D)                                                            \n",
            "                                                                 \n",
            " conv2d_4 (Conv2D)           (None, 16, 16, 128)       147584    \n",
            "                                                                 \n",
            " batch_normalization_4 (Bat  (None, 16, 16, 128)       512       \n",
            " chNormalization)                                                \n",
            "                                                                 \n",
            " max_pooling2d_4 (MaxPoolin  (None, 8, 8, 128)         0         \n",
            " g2D)                                                            \n",
            "                                                                 \n",
            " dropout_2 (Dropout)         (None, 8, 8, 128)         0         \n",
            "                                                                 \n",
            " flatten (Flatten)           (None, 8192)              0         \n",
            "                                                                 \n",
            " dense (Dense)               (None, 1024)              8389632   \n",
            "                                                                 \n",
            " batch_normalization_5 (Bat  (None, 1024)              4096      \n",
            " chNormalization)                                                \n",
            "                                                                 \n",
            " dropout_3 (Dropout)         (None, 1024)              0         \n",
            "                                                                 \n",
            " dense_1 (Dense)             (None, 15)                15375     \n",
            "                                                                 \n",
            "=================================================================\n",
            "Total params: 8688527 (33.14 MB)\n",
            "Trainable params: 8685647 (33.13 MB)\n",
            "Non-trainable params: 2880 (11.25 KB)\n",
            "_________________________________________________________________\n"
          ]
        }
      ],
      "source": [
        "model.summary()"
      ]
    },
    {
      "cell_type": "code",
      "execution_count": null,
      "metadata": {
        "id": "Tn9hDlNKkiRU",
        "outputId": "f7974d07-50a2-4ed3-c219-33ec7d5d5fd5",
        "colab": {
          "base_uri": "https://localhost:8080/"
        }
      },
      "outputs": [
        {
          "output_type": "stream",
          "name": "stdout",
          "text": [
            "[INFO] training network...\n"
          ]
        }
      ],
      "source": [
        "# opt = Adam(learning_rate=INIT_LR)\n",
        "# distribution\n",
        "model.compile(loss=\"binary_crossentropy\", optimizer=\"adam\", metrics=[\"accuracy\"])\n",
        "# train the network\n",
        "print(\"[INFO] training network...\")"
      ]
    },
    {
      "cell_type": "code",
      "execution_count": null,
      "metadata": {
        "id": "wxDxjxokkiRU",
        "outputId": "34c40b02-63aa-4418-ae07-9a909c084b8e",
        "colab": {
          "base_uri": "https://localhost:8080/"
        }
      },
      "outputs": [
        {
          "output_type": "stream",
          "name": "stdout",
          "text": [
            "Epoch 1/25\n",
            "73/73 [==============================] - 64s 680ms/step - loss: 0.6983 - accuracy: 0.2559 - val_loss: 0.6459 - val_accuracy: 0.0592\n",
            "Epoch 2/25\n",
            "73/73 [==============================] - 44s 596ms/step - loss: 0.2645 - accuracy: 0.4294 - val_loss: 0.5922 - val_accuracy: 0.0626\n",
            "Epoch 3/25\n",
            "73/73 [==============================] - 43s 593ms/step - loss: 0.1484 - accuracy: 0.6170 - val_loss: 0.8665 - val_accuracy: 0.0778\n",
            "Epoch 4/25\n",
            "73/73 [==============================] - 44s 604ms/step - loss: 0.1265 - accuracy: 0.6745 - val_loss: 0.5885 - val_accuracy: 0.1100\n",
            "Epoch 5/25\n",
            "73/73 [==============================] - 44s 606ms/step - loss: 0.1104 - accuracy: 0.7274 - val_loss: 0.5892 - val_accuracy: 0.1117\n",
            "Epoch 6/25\n",
            "73/73 [==============================] - 45s 605ms/step - loss: 0.0947 - accuracy: 0.7621 - val_loss: 0.7255 - val_accuracy: 0.0998\n",
            "Epoch 7/25\n",
            "73/73 [==============================] - 44s 605ms/step - loss: 0.0894 - accuracy: 0.7836 - val_loss: 0.4702 - val_accuracy: 0.1675\n",
            "Epoch 8/25\n",
            "73/73 [==============================] - 45s 612ms/step - loss: 0.0873 - accuracy: 0.7840 - val_loss: 0.4374 - val_accuracy: 0.2758\n",
            "Epoch 9/25\n",
            "73/73 [==============================] - 42s 578ms/step - loss: 0.0819 - accuracy: 0.7939 - val_loss: 0.2741 - val_accuracy: 0.5008\n",
            "Epoch 10/25\n",
            "73/73 [==============================] - 44s 603ms/step - loss: 0.0785 - accuracy: 0.8188 - val_loss: 1.0331 - val_accuracy: 0.3113\n",
            "Epoch 11/25\n",
            "73/73 [==============================] - 43s 585ms/step - loss: 0.0843 - accuracy: 0.8033 - val_loss: 0.2732 - val_accuracy: 0.5516\n",
            "Epoch 12/25\n",
            "73/73 [==============================] - 43s 585ms/step - loss: 0.0699 - accuracy: 0.8360 - val_loss: 0.1272 - val_accuracy: 0.7462\n",
            "Epoch 13/25\n",
            "73/73 [==============================] - 41s 564ms/step - loss: 0.0663 - accuracy: 0.8476 - val_loss: 0.1554 - val_accuracy: 0.6396\n",
            "Epoch 14/25\n",
            "73/73 [==============================] - 41s 563ms/step - loss: 0.0586 - accuracy: 0.8699 - val_loss: 0.3662 - val_accuracy: 0.5431\n",
            "Epoch 15/25\n",
            "73/73 [==============================] - 40s 547ms/step - loss: 0.0566 - accuracy: 0.8755 - val_loss: 0.1596 - val_accuracy: 0.6599\n",
            "Epoch 16/25\n",
            "73/73 [==============================] - 40s 553ms/step - loss: 0.0620 - accuracy: 0.8613 - val_loss: 0.4723 - val_accuracy: 0.3773\n",
            "Epoch 17/25\n",
            "73/73 [==============================] - 41s 556ms/step - loss: 0.0544 - accuracy: 0.8828 - val_loss: 0.0899 - val_accuracy: 0.8054\n",
            "Epoch 18/25\n",
            "73/73 [==============================] - 40s 550ms/step - loss: 0.0499 - accuracy: 0.8931 - val_loss: 0.0819 - val_accuracy: 0.7970\n",
            "Epoch 19/25\n",
            "73/73 [==============================] - 40s 545ms/step - loss: 0.0495 - accuracy: 0.8905 - val_loss: 0.2707 - val_accuracy: 0.5465\n",
            "Epoch 20/25\n",
            "73/73 [==============================] - 40s 544ms/step - loss: 0.0425 - accuracy: 0.9120 - val_loss: 0.3171 - val_accuracy: 0.6074\n",
            "Epoch 21/25\n",
            "73/73 [==============================] - 39s 535ms/step - loss: 0.0434 - accuracy: 0.9047 - val_loss: 0.0927 - val_accuracy: 0.8376\n",
            "Epoch 22/25\n",
            "73/73 [==============================] - 40s 553ms/step - loss: 0.0414 - accuracy: 0.9137 - val_loss: 0.1320 - val_accuracy: 0.7597\n",
            "Epoch 23/25\n",
            "73/73 [==============================] - 40s 543ms/step - loss: 0.0440 - accuracy: 0.9021 - val_loss: 0.3483 - val_accuracy: 0.5804\n",
            "Epoch 24/25\n",
            "73/73 [==============================] - 40s 542ms/step - loss: 0.0386 - accuracy: 0.9188 - val_loss: 0.1396 - val_accuracy: 0.7293\n",
            "Epoch 25/25\n",
            "73/73 [==============================] - 39s 534ms/step - loss: 0.0397 - accuracy: 0.9236 - val_loss: 0.1022 - val_accuracy: 0.8105\n"
          ]
        }
      ],
      "source": [
        "history = model.fit(\n",
        "    aug.flow(x_train, y_train, batch_size=BS),\n",
        "    validation_data=(x_test, y_test),\n",
        "    steps_per_epoch=len(x_train) // BS,\n",
        "    epochs=EPOCHS, verbose=1\n",
        "    )"
      ]
    },
    {
      "cell_type": "code",
      "source": [
        "print(history.params)"
      ],
      "metadata": {
        "colab": {
          "base_uri": "https://localhost:8080/"
        },
        "id": "A1y7jZU_8LgE",
        "outputId": "51a09370-16b5-411c-ce5f-704f48631d0d"
      },
      "execution_count": null,
      "outputs": [
        {
          "output_type": "stream",
          "name": "stdout",
          "text": [
            "{'verbose': 1, 'epochs': 25, 'steps': 73}\n"
          ]
        }
      ]
    },
    {
      "cell_type": "code",
      "source": [
        "print(history.history.keys())"
      ],
      "metadata": {
        "colab": {
          "base_uri": "https://localhost:8080/"
        },
        "id": "AdToMc2j8SE9",
        "outputId": "94156081-02d4-42ea-f983-eff6effaf7b0"
      },
      "execution_count": null,
      "outputs": [
        {
          "output_type": "stream",
          "name": "stdout",
          "text": [
            "dict_keys(['loss', 'accuracy', 'val_loss', 'val_accuracy'])\n"
          ]
        }
      ]
    },
    {
      "cell_type": "code",
      "execution_count": null,
      "metadata": {
        "id": "2MfOB09akiRU",
        "colab": {
          "base_uri": "https://localhost:8080/",
          "height": 887
        },
        "outputId": "0d4554e9-f03c-40a4-9463-ec289b77368d"
      },
      "outputs": [
        {
          "output_type": "display_data",
          "data": {
            "text/plain": [
              "<Figure size 640x480 with 1 Axes>"
            ],
            "image/png": "[encoded data removed]"
          },
          "metadata": {}
        },
        {
          "output_type": "display_data",
          "data": {
            "text/plain": [
              "<Figure size 640x480 with 1 Axes>"
            ],
            "image/png": "[encoded data removed]"
          },
          "metadata": {}
        }
      ],
      "source": [
        "acc = history.history['accuracy']\n",
        "val_acc = history.history['val_accuracy']\n",
        "loss = history.history['loss']\n",
        "val_loss = history.history['val_loss']\n",
        "epochs = range(1, len(acc) + 1)\n",
        "#Train and validation accuracy\n",
        "plt.plot(epochs, acc, 'b', label='Training accurarcy')\n",
        "plt.plot(epochs, val_acc, 'r', label='Validation accurarcy')\n",
        "plt.title('Training and Validation accurarcy')\n",
        "plt.legend()\n",
        "\n",
        "plt.figure()\n",
        "#Train and validation loss\n",
        "plt.plot(epochs, loss, 'b', label='Training loss')\n",
        "plt.plot(epochs, val_loss, 'r', label='Validation loss')\n",
        "plt.title('Training and Validation loss')\n",
        "plt.legend()\n",
        "plt.show()"
      ]
    },
    {
      "cell_type": "code",
      "execution_count": null,
      "metadata": {
        "id": "M8SVhwYUkiRU",
        "colab": {
          "base_uri": "https://localhost:8080/"
        },
        "outputId": "d1edcd87-4b21-4057-c228-2a1907732234"
      },
      "outputs": [
        {
          "output_type": "stream",
          "name": "stdout",
          "text": [
            "[INFO] Calculating model accuracy\n",
            "19/19 [==============================] - 1s 30ms/step - loss: 0.1022 - accuracy: 0.8105\n",
            "Test Accuracy: 81.04906678199768\n"
          ]
        }
      ],
      "source": [
        "print(\"[INFO] Calculating model accuracy\")\n",
        "loaded_model = load_model(\"leaf_model.h5\")\n",
        "scores = loaded_model.evaluate(x_test, y_test)\n",
        "print(f\"Test Accuracy: {scores[1]*100}\")"
      ]
    },
    {
      "cell_type": "code",
      "execution_count": null,
      "metadata": {
        "id": "gafKyOZbkiRU",
        "colab": {
          "base_uri": "https://localhost:8080/"
        },
        "outputId": "6fba8081-623f-453d-aa3c-069fa0edf64c"
      },
      "outputs": [
        {
          "output_type": "stream",
          "name": "stdout",
          "text": [
            "[INFO] Saving model...\n"
          ]
        },
        {
          "output_type": "stream",
          "name": "stderr",
          "text": [
            "/usr/local/lib/python3.10/dist-packages/keras/src/engine/training.py:3103: UserWarning: You are saving your model as an HDF5 file via `model.save()`. This file format is considered legacy. We recommend using instead the native Keras format, e.g. `model.save('my_model.keras')`.\n",
            "  saving_api.save_model(\n"
          ]
        }
      ],
      "source": [
        "print(\"[INFO] Saving model...\")\n",
        "# pickle.dump(model,open('cnn_model.pkl', 'wb'))\n",
        "model.save(\"cnn_model\")\n",
        "model.save(\"leaf_model.h5\")"
      ]
    },
    {
      "cell_type": "code",
      "source": [
        "model.save(\"plant_disease.keras\")"
      ],
      "metadata": {
        "id": "rpID3AOHRp47"
      },
      "execution_count": null,
      "outputs": []
    },
    {
      "cell_type": "code",
      "execution_count": null,
      "metadata": {
        "collapsed": true,
        "id": "JH6b1RSekiRU"
      },
      "outputs": [],
      "source": [
        "loaded_model = load_model(\"plant_disease.keras\")"
      ]
    },
    {
      "cell_type": "code",
      "source": [
        "\n",
        "!zip -r '/content/my_model.zip' '/content/cnn_model'"
      ],
      "metadata": {
        "colab": {
          "base_uri": "https://localhost:8080/"
        },
        "id": "LM9cld66AO2m",
        "outputId": "aa9e7d9f-0733-431b-cc38-f17d69fee848"
      },
      "execution_count": null,
      "outputs": [
        {
          "output_type": "stream",
          "name": "stdout",
          "text": [
            "  adding: content/cnn_model/ (stored 0%)\n",
            "  adding: content/cnn_model/assets/ (stored 0%)\n",
            "  adding: content/cnn_model/saved_model.pb (deflated 89%)\n",
            "  adding: content/cnn_model/fingerprint.pb (stored 0%)\n",
            "  adding: content/cnn_model/variables/ (stored 0%)\n",
            "  adding: content/cnn_model/variables/variables.data-00000-of-00001 (deflated 8%)\n",
            "  adding: content/cnn_model/variables/variables.index (deflated 71%)\n",
            "  adding: content/cnn_model/keras_metadata.pb (deflated 94%)\n"
          ]
        }
      ]
    },
    {
      "cell_type": "code",
      "execution_count": null,
      "metadata": {
        "collapsed": true,
        "id": "EoZSB2RrkiRU"
      },
      "outputs": [],
      "source": [
        "# image_dir=\"/content/input/PlantVillage\"\n",
        "\n",
        "# folder_names = listdir(image_dir)\n",
        "# print(images_dir)\n",
        "\n",
        "# for folder_name in folder_names:\n",
        "  # print(folder_name)\n",
        "  # images = listdir(f\"{image_dir}/{folder_name}\")\n",
        "  # print(folder_name)\n",
        "  # print(images)\n",
        "\n",
        "# print(image_dir)\n",
        "# folder_name = \"Potato__Early_blight\"\n",
        "# images = listdir(f\"/content/input/PlantVillage/Tomato_Late_blight\")\n",
        "# print(folder_name)\n",
        "# print(images)\n",
        "image_location = f\"/content/input/PlantVillage/Potato___Early_blight/02578b86-b234-4ac0-9bc3-691b5610e2bf___RS_Early.B 7562.JPG\"\n",
        "# print(images[5])\n",
        "im=convert_image_to_array(image_location)\n",
        "# print(im)\n",
        "np_image_li = np.array(im, dtype=np.float16) / 255.0\n",
        "# print(np_image_li)\n",
        "npp_image = np.expand_dims(np_image_li, axis=0)\n",
        "# print(npp_image)"
      ]
    },
    {
      "cell_type": "code",
      "execution_count": null,
      "metadata": {
        "collapsed": true,
        "id": "3M8byA26kiRU",
        "colab": {
          "base_uri": "https://localhost:8080/"
        },
        "outputId": "96dba487-88a2-44df-ef48-aa6eae3b0152"
      },
      "outputs": [
        {
          "output_type": "stream",
          "name": "stdout",
          "text": [
            "1/1 [==============================] - 1s 595ms/step\n",
            "[[1.4225378e-07 1.8630449e-07 9.9998522e-01 1.6820458e-07 6.6533334e-10\n",
            "  1.8945638e-08 1.5978602e-06 4.4142794e-06 2.3361555e-09 6.8415609e-08\n",
            "  5.4930798e-09 8.9901748e-09 5.3800462e-09 2.4140107e-10 8.1238340e-06]]\n"
          ]
        }
      ],
      "source": [
        "result = loaded_model.predict(npp_image)\n",
        "\n",
        "print(result)"
      ]
    },
    {
      "cell_type": "code",
      "execution_count": null,
      "metadata": {
        "collapsed": true,
        "id": "5MaIKDCvkiRU",
        "colab": {
          "base_uri": "https://localhost:8080/"
        },
        "outputId": "8de81368-6df9-44cd-924b-2b29becc3ce7"
      },
      "outputs": [
        {
          "output_type": "stream",
          "name": "stdout",
          "text": [
            "probability:0.9999852\n",
            "Potato___Early_blight\n"
          ]
        }
      ],
      "source": [
        "itemindex = np.where(result==np.max(result))\n",
        "print(\"probability:\"+str(np.max(result))+\"\\n\"+label_binarizer.classes_[itemindex[1][0]])"
      ]
    },
    {
      "cell_type": "code",
      "source": [],
      "metadata": {
        "id": "tXm_zzoZJKN8"
      },
      "execution_count": null,
      "outputs": []
    }
  ],
  "metadata": {
    "kernelspec": {
      "display_name": "Python 3",
      "name": "python3"
    },
    "language_info": {
      "codemirror_mode": {
        "name": "ipython",
        "version": 3
      },
      "file_extension": ".py",
      "mimetype": "text/x-python",
      "name": "python",
      "nbconvert_exporter": "python",
      "pygments_lexer": "ipython3",
      "version": "3.10.12"
    },
    "colab": {
      "provenance": [],
      "gpuType": "T4"
    },
    "accelerator": "GPU"
  },
  "nbformat": 4,
  "nbformat_minor": 0
}